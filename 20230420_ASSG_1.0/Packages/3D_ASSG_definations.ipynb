{
 "cells": [
  {
   "cell_type": "code",
   "execution_count": null,
   "id": "4fee0ba7",
   "metadata": {},
   "outputs": [],
   "source": [
    "def mean3(v1,v2,v3):\n",
    "    return [meanlist(v1), meanlist(v2), meanlist(v3)]\n",
    "#definition deviation\n",
    "def std3(v1,v2,v3):\n",
    "    return [stdlist(v1), stdlist(v2), stdlist(v3)]\n",
    "def ipd3(v1,v2,v3):\n",
    "    counter=0\n",
    "    for i in range(len(v1)):\n",
    "        dm = std3(v1,v2,v3)\n",
    "        msd3 = (dm[0]+dm[1]+dm[2])/3\n",
    "        distance_to_ev=((m[0]-v1[i])**2+(m[1]-v2[i])**2+(m[2]-v3[i])**2)**0.5\n",
    "        if msd3 > distance_to_ev:\n",
    "            counter += 1\n",
    "        else:\n",
    "            counter += 0\n",
    "    return counter/len(v1)\n",
    "\n",
    "def traveltendency3(v1, v2, v3):\n",
    "    tt=0\n",
    "    td1=np.zeros(len(v1)-1)\n",
    "    td2=np.zeros(len(v2)-1)\n",
    "    td3=np.zeros(len(v3)-1)\n",
    "    for i in range(len(v1)-1):\n",
    "        td1[i] += (v1[i]-v1[i+1])\n",
    "        td2[i] += (v2[i]-v2[i+1])\n",
    "        td3[i] += (v3[i]-v3[i+1])\n",
    "        if td1[i]<0:\n",
    "            tt+=-1\n",
    "        if td1[i]==0:\n",
    "            tt+=0\n",
    "        if td1[i]>0:\n",
    "            tt+=1\n",
    "        if td2[i]<0:\n",
    "            tt+=-1\n",
    "        if td2[i]==0:\n",
    "            tt+=0\n",
    "        if td2[i]>0:\n",
    "            tt+=1\n",
    "        if td3[i]<0:\n",
    "            tt+=-1\n",
    "        if td3[i]==0:\n",
    "            tt+=0\n",
    "        if td3[i]>0:\n",
    "            tt+=1\n",
    "    return tt/(3*(len(v1)-1))\n",
    "\n",
    "def traveldistance3(v1, v2, v3):\n",
    "    td=0\n",
    "    for i in range(len(v1)-1):\n",
    "        td += ((v1[i]-v1[i+1])**2+(v2[i]-v2[i+1])**2+(v3[i]-v3[i+1])**2)**0.5\n",
    "    return td/(len(v1)-1)\n"
   ]
  }
 ],
 "metadata": {
  "kernelspec": {
   "display_name": "Python 3 (ipykernel)",
   "language": "python",
   "name": "python3"
  },
  "language_info": {
   "codemirror_mode": {
    "name": "ipython",
    "version": 3
   },
   "file_extension": ".py",
   "mimetype": "text/x-python",
   "name": "python",
   "nbconvert_exporter": "python",
   "pygments_lexer": "ipython3",
   "version": "3.9.12"
  }
 },
 "nbformat": 4,
 "nbformat_minor": 5
}
